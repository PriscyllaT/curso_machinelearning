{
 "cells": [
  {
   "cell_type": "code",
   "execution_count": null,
   "metadata": {
    "collapsed": false
   },
   "outputs": [
    {
     "name": "stderr",
     "output_type": "stream",
     "text": [
      "Loading required package: xgboost\n",
      "Parsed with column specification:\n",
      "cols(\n",
      "  .default = col_integer(),\n",
      "  T1_V4 = col_character(),\n",
      "  T1_V5 = col_character(),\n",
      "  T1_V6 = col_character(),\n",
      "  T1_V7 = col_character(),\n",
      "  T1_V8 = col_character(),\n",
      "  T1_V9 = col_character(),\n",
      "  T1_V11 = col_character(),\n",
      "  T1_V12 = col_character(),\n",
      "  T1_V15 = col_character(),\n",
      "  T1_V16 = col_character(),\n",
      "  T1_V17 = col_character(),\n",
      "  T2_V3 = col_character(),\n",
      "  T2_V5 = col_character(),\n",
      "  T2_V11 = col_character(),\n",
      "  T2_V12 = col_character(),\n",
      "  T2_V13 = col_character()\n",
      ")\n",
      "See spec(...) for full column specifications.\n",
      "Parsed with column specification:\n",
      "cols(\n",
      "  .default = col_integer(),\n",
      "  T1_V4 = col_character(),\n",
      "  T1_V5 = col_character(),\n",
      "  T1_V6 = col_character(),\n",
      "  T1_V7 = col_character(),\n",
      "  T1_V8 = col_character(),\n",
      "  T1_V9 = col_character(),\n",
      "  T1_V11 = col_character(),\n",
      "  T1_V12 = col_character(),\n",
      "  T1_V15 = col_character(),\n",
      "  T1_V16 = col_character(),\n",
      "  T1_V17 = col_character(),\n",
      "  T2_V3 = col_character(),\n",
      "  T2_V5 = col_character(),\n",
      "  T2_V11 = col_character(),\n",
      "  T2_V12 = col_character(),\n",
      "  T2_V13 = col_character()\n",
      ")\n",
      "See spec(...) for full column specifications.\n"
     ]
    }
   ],
   "source": [
    "require(xgboost)\n",
    "library(caret)\n",
    "library(readr)\n",
    "\n",
    "# load raw data\n",
    "train = read_csv('train.csv')\n",
    "test = read_csv('test.csv')\n",
    "\n",
    "# Create the response variable\n",
    "y = train$Hazard\n",
    "\n",
    "# Create the predictor data set and encode categorical variables using caret library.\n",
    "mtrain = train[,-c(1,2)]\n",
    "mtest = test[,-c(1)]\n",
    "dummies <- dummyVars(~ ., data = mtrain)\n",
    "mtrain = predict(dummies, newdata = mtrain)\n",
    "mtest = predict(dummies, newdata = mtest)\n",
    "\n",
    "# Set necessary parameters and use parallel threads\n",
    "param <- list(\"objective\" = \"reg:linear\", \"nthread\" = 8, \"verbose\"=0)\n",
    "\n",
    "# Fit the model\n",
    "xgb.fit = xgboost(param=param, data = mtrain, label = y, nrounds=1500, eta = .01, max_depth = 7, \n",
    "                  min_child_weight = 5, scale_pos_weight = 1.0, subsample=0.8) \n",
    "\n",
    "# Predict Hazard for the test set\n",
    "submission <- data.frame(Id=test$Id)\n",
    "submission$Hazard <- predict(xgb.fit, mtest)\n",
    "write_csv(submission, \"xgbboost_r_benchmark.csv\")\n",
    "\n",
    "# Let’s see what the model looks like.\n",
    "model <- xgb.dump(xgb.fit, with.stats = T)\n",
    "model[1:10]\n",
    "\n",
    "# Bar graph representing each feature by a horizontal bar. \n",
    "# The longer the bar, the more important is the feature. \n",
    "# Features are classified by importance and clustered by importance.\n",
    "names <- dimnames(mtrain)[[2]]\n",
    "importance_matrix <- xgb.importance(names, model = xgb.fit)\n",
    "xgb.plot.importance(importance_matrix[1:10,])"
   ]
  },
  {
   "cell_type": "code",
   "execution_count": 2,
   "metadata": {
    "collapsed": false
   },
   "outputs": [
    {
     "name": "stdout",
     "output_type": "stream",
     "text": [
      "\n",
      "  There is a binary version available but the source version is later:\n",
      "        binary  source needs_compilation\n",
      "xgboost  0.6-4 0.6.4.1              TRUE\n",
      "\n"
     ]
    },
    {
     "name": "stderr",
     "output_type": "stream",
     "text": [
      "installing the source package ‘xgboost’\n",
      "\n"
     ]
    }
   ],
   "source": [
    "install.packages('xgboost')"
   ]
  },
  {
   "cell_type": "code",
   "execution_count": null,
   "metadata": {
    "collapsed": true
   },
   "outputs": [],
   "source": []
  }
 ],
 "metadata": {
  "anaconda-cloud": {},
  "kernelspec": {
   "display_name": "R",
   "language": "R",
   "name": "ir"
  },
  "language_info": {
   "codemirror_mode": "r",
   "file_extension": ".r",
   "mimetype": "text/x-r-source",
   "name": "R",
   "pygments_lexer": "r",
   "version": "3.3.2"
  }
 },
 "nbformat": 4,
 "nbformat_minor": 2
}
