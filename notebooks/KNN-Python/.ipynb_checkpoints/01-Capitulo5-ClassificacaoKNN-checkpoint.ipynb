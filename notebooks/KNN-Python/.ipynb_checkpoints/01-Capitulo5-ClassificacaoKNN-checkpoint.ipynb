{
 "cells": [
  {
   "cell_type": "code",
   "execution_count": 1,
   "metadata": {
    "collapsed": true
   },
   "outputs": [],
   "source": [
    "# Carrega os pacotes\n",
    "import numpy as np\n",
    "import pandas as pd\n",
    "import matplotlib.pyplot as plt\n",
    "import sklearn\n",
    "import sklearn.datasets\n",
    "import sklearn.model_selection\n",
    "import sklearn.decomposition\n",
    "import sklearn.model_selection\n",
    "import sklearn.neighbors\n",
    "import sklearn.metrics"
   ]
  },
  {
   "cell_type": "code",
   "execution_count": 2,
   "metadata": {
    "collapsed": true
   },
   "outputs": [],
   "source": [
    "# Gera o dataset\n",
    "digitos = sklearn.datasets.load_digits()"
   ]
  },
  {
   "cell_type": "code",
   "execution_count": 3,
   "metadata": {
    "collapsed": false
   },
   "outputs": [
    {
     "data": {
      "text/plain": [
       "<matplotlib.figure.Figure at 0x119c47208>"
      ]
     },
     "metadata": {},
     "output_type": "display_data"
    },
    {
     "data": {
      "image/png": "[encoded data removed]",
      "text/plain": [
       "<matplotlib.figure.Figure at 0x119c471d0>"
      ]
     },
     "metadata": {},
     "output_type": "display_data"
    }
   ],
   "source": [
    "# Plot de um dos itens do dataset\n",
    "plt.gray() \n",
    "plt.matshow(digitos.images[2]) \n",
    "plt.show() "
   ]
  },
  {
   "cell_type": "code",
   "execution_count": 4,
   "metadata": {
    "collapsed": true
   },
   "outputs": [],
   "source": [
    "# Gera X e Y\n",
    "X = digitos.data\n",
    "Y = digitos.target"
   ]
  },
  {
   "cell_type": "code",
   "execution_count": 5,
   "metadata": {
    "collapsed": false
   },
   "outputs": [
    {
     "name": "stdout",
     "output_type": "stream",
     "text": [
      "(1797, 64) (1797,)\n"
     ]
    }
   ],
   "source": [
    "# Formato de X e Y\n",
    "print(X.shape, Y.shape)"
   ]
  },
  {
   "cell_type": "code",
   "execution_count": 6,
   "metadata": {
    "collapsed": true
   },
   "outputs": [],
   "source": [
    "# Cross Validation para gerar os datasets de treino e de teste\n",
    "X_treino, X_teste, Y_treino, Y_teste = sklearn.model_selection.train_test_split (X, Y, \n",
    "                                                                                  test_size = 0.33, \n",
    "                                                                                  random_state = 101)"
   ]
  },
  {
   "cell_type": "code",
   "execution_count": 7,
   "metadata": {
    "collapsed": true
   },
   "outputs": [],
   "source": [
    "# Normalização dos dados pela Média\n",
    "\n",
    "# Cálculo da média do dataset de treino\n",
    "X_norm = np.mean(X_treino, axis = 0)\n",
    "\n",
    "# Normalização dos dados de treino e de teste\n",
    "X_treino_norm = X_treino - X_norm\n",
    "X_teste_norm = X_teste - X_norm"
   ]
  },
  {
   "cell_type": "code",
   "execution_count": 8,
   "metadata": {
    "collapsed": false
   },
   "outputs": [
    {
     "name": "stdout",
     "output_type": "stream",
     "text": [
      "(1203, 64) (594, 64) (1203,) (594,)\n"
     ]
    }
   ],
   "source": [
    "# Shape dos datasets\n",
    "print(X_treino_norm.shape, X_teste_norm.shape, Y_treino.shape, Y_teste.shape)"
   ]
  },
  {
   "cell_type": "code",
   "execution_count": null,
   "metadata": {
    "collapsed": true
   },
   "outputs": [],
   "source": [
    "# Single Value Decompositon (SVD) - Redução de Dimensionalidade\n",
    "# Redução de Componentes Linear, similar ao PCA\n",
    "svd = sklearn.decomposition.TruncatedSVD(n_components = 2)\n",
    "X_2d = svd.fit_transform(X_treino_norm)"
   ]
  },
  {
   "cell_type": "code",
   "execution_count": null,
   "metadata": {
    "collapsed": false
   },
   "outputs": [],
   "source": [
    "# Plot dos 2 primeiros Componentes Principais\n",
    "plt.scatter(X_2d[:,0], X_2d[:,1], c = Y_treino, s = 50, cmap = plt.cm.Paired)\n",
    "plt.colorbar()\n",
    "plt.xlabel('PC1')\n",
    "plt.ylabel('PC2')\n",
    "plt.title('Primeiros 2 Componentes Principais')\n",
    "plt.show()"
   ]
  },
  {
   "cell_type": "code",
   "execution_count": null,
   "metadata": {
    "collapsed": true
   },
   "outputs": [],
   "source": [
    "# Função para testar o melhor valor de K\n",
    "def compute_teste (x_teste, y_teste, clf, cv):\n",
    "    KFolds = sklearn.model_selection.KFold(n_splits = cv)\n",
    "    \n",
    "    scores = []\n",
    "    \n",
    "    for i, j in KFolds.split(x_teste):\n",
    "        test_set = x_teste[j]\n",
    "        test_labels = y_teste[j]\n",
    "        scores.append(sklearn.metrics.accuracy_score(test_labels, clf.predict(test_set)))\n",
    "    return scores"
   ]
  },
  {
   "cell_type": "code",
   "execution_count": null,
   "metadata": {
    "collapsed": true
   },
   "outputs": [],
   "source": [
    "# Definição de parâmetros\n",
    "k = np.arange(20) + 1\n",
    "parametros = {'n_neighbors':k}"
   ]
  },
  {
   "cell_type": "code",
   "execution_count": null,
   "metadata": {
    "collapsed": true
   },
   "outputs": [],
   "source": [
    "# Construção do Modelo KNN\n",
    "# http://scikit-learn.org/stable/modules/generated/sklearn.neighbors.KNeighborsClassifier.html\n",
    "modelo = sklearn.neighbors.KNeighborsClassifier()"
   ]
  },
  {
   "cell_type": "code",
   "execution_count": null,
   "metadata": {
    "collapsed": false
   },
   "outputs": [],
   "source": [
    "modelo.get_params"
   ]
  },
  {
   "cell_type": "code",
   "execution_count": null,
   "metadata": {
    "collapsed": true
   },
   "outputs": [],
   "source": [
    "# Grid Search para Cross Validation com o melhor valor de K\n",
    "modeloKNN = sklearn.model_selection.GridSearchCV(modelo, parametros, cv = 10)"
   ]
  },
  {
   "cell_type": "code",
   "execution_count": null,
   "metadata": {
    "collapsed": false
   },
   "outputs": [],
   "source": [
    "modeloKNN.get_params"
   ]
  },
  {
   "cell_type": "code",
   "execution_count": null,
   "metadata": {
    "collapsed": true
   },
   "outputs": [],
   "source": [
    "# Listas vazias que vão receber os scrores de acurária e os parâmetros resultados do modelo\n",
    "acuracia = []\n",
    "params = []"
   ]
  },
  {
   "cell_type": "code",
   "execution_count": null,
   "metadata": {
    "collapsed": true
   },
   "outputs": [],
   "source": [
    "# Lista de dimensões\n",
    "dimensoes = [1, 2, 3, 4, 5, 6, 7, 8, 9, 10]"
   ]
  },
  {
   "cell_type": "code",
   "execution_count": null,
   "metadata": {
    "collapsed": true
   },
   "outputs": [],
   "source": [
    "# Implementação do modelo\n",
    "for d in dimensoes:\n",
    "    svd = sklearn.decomposition.TruncatedSVD(n_components = d)\n",
    "    \n",
    "    if d < 64:\n",
    "        X_fit_treino = svd.fit_transform(X_treino)\n",
    "        X_fit_teste = svd.transform(X_teste)\n",
    "    else:\n",
    "        X_nl = X_treino\n",
    "        X_nl1 = X_teste\n",
    "        \n",
    "    modeloKNN.fit(X_fit_treino, Y_treino)\n",
    "    \n",
    "    acuracia.append(compute_teste(x_teste = X_fit_teste, y_teste = Y_teste, clf = modeloKNN, cv = 10))\n",
    "    params.append(modeloKNN.best_params_['n_neighbors'])"
   ]
  },
  {
   "cell_type": "code",
   "execution_count": null,
   "metadata": {
    "collapsed": false
   },
   "outputs": [],
   "source": [
    "# A acurácia aumenta à medida que usamos mais dimensões para o modelo de classificação\n",
    "acuracia"
   ]
  },
  {
   "cell_type": "markdown",
   "metadata": {},
   "source": [
    "## Alterando Parâmetros do Modelo"
   ]
  },
  {
   "cell_type": "code",
   "execution_count": 22,
   "metadata": {
    "collapsed": true
   },
   "outputs": [],
   "source": [
    "# Alterando parâmetros do modelo\n",
    "modelo_v2 = sklearn.neighbors.KNeighborsClassifier(metric = 'hamming')\n",
    "modeloKNN_v2 = sklearn.model_selection.GridSearchCV(modeloKNN, parametros, cv = 10)"
   ]
  },
  {
   "cell_type": "code",
   "execution_count": 23,
   "metadata": {
    "collapsed": false
   },
   "outputs": [
    {
     "data": {
      "text/plain": [
       "<bound method BaseEstimator.get_params of KNeighborsClassifier(algorithm='auto', leaf_size=30, metric='hamming',\n",
       "           metric_params=None, n_jobs=1, n_neighbors=5, p=2,\n",
       "           weights='uniform')>"
      ]
     },
     "execution_count": 23,
     "metadata": {},
     "output_type": "execute_result"
    }
   ],
   "source": [
    "modelo_v2.get_params"
   ]
  },
  {
   "cell_type": "code",
   "execution_count": 24,
   "metadata": {
    "collapsed": true
   },
   "outputs": [],
   "source": [
    "# Listas vazias que vão receber os scrores de acurária e os parâmetros resultados do modelo\n",
    "acuracia = []\n",
    "params = []\n",
    "\n",
    "# Lista de dimensões\n",
    "dimensoes = [1, 2, 3, 4, 5, 6, 7, 8, 9, 10]"
   ]
  },
  {
   "cell_type": "code",
   "execution_count": 25,
   "metadata": {
    "collapsed": true
   },
   "outputs": [],
   "source": [
    "# Implementação do modelo\n",
    "for d in dimensoes:\n",
    "    svd = sklearn.decomposition.TruncatedSVD(n_components = d)\n",
    "    \n",
    "    if d < 64:\n",
    "        X_fit_treino = svd.fit_transform(X_treino)\n",
    "        X_fit_teste = svd.transform(X_teste)\n",
    "    else:\n",
    "        X_nl = X_treino\n",
    "        X_nl1 = X_teste\n",
    "        \n",
    "    modelo_v2.fit(X_fit_treino, Y_treino)\n",
    "    \n",
    "    acuracia.append(compute_teste(x_teste = X_fit_teste, y_teste = Y_teste, clf = modelo_v2, cv = 10))"
   ]
  },
  {
   "cell_type": "code",
   "execution_count": 26,
   "metadata": {
    "collapsed": false
   },
   "outputs": [
    {
     "data": {
      "text/plain": [
       "[[0.18333333333333332,\n",
       "  0.083333333333333329,\n",
       "  0.13333333333333333,\n",
       "  0.13333333333333333,\n",
       "  0.050847457627118647,\n",
       "  0.084745762711864403,\n",
       "  0.067796610169491525,\n",
       "  0.10169491525423729,\n",
       "  0.084745762711864403,\n",
       "  0.067796610169491525],\n",
       " [0.083333333333333329,\n",
       "  0.050000000000000003,\n",
       "  0.13333333333333333,\n",
       "  0.13333333333333333,\n",
       "  0.10169491525423729,\n",
       "  0.050847457627118647,\n",
       "  0.067796610169491525,\n",
       "  0.10169491525423729,\n",
       "  0.067796610169491525,\n",
       "  0.10169491525423729],\n",
       " [0.18333333333333332,\n",
       "  0.083333333333333329,\n",
       "  0.13333333333333333,\n",
       "  0.13333333333333333,\n",
       "  0.050847457627118647,\n",
       "  0.084745762711864403,\n",
       "  0.067796610169491525,\n",
       "  0.10169491525423729,\n",
       "  0.084745762711864403,\n",
       "  0.067796610169491525],\n",
       " [0.18333333333333332,\n",
       "  0.083333333333333329,\n",
       "  0.13333333333333333,\n",
       "  0.13333333333333333,\n",
       "  0.050847457627118647,\n",
       "  0.084745762711864403,\n",
       "  0.067796610169491525,\n",
       "  0.10169491525423729,\n",
       "  0.084745762711864403,\n",
       "  0.067796610169491525],\n",
       " [0.083333333333333329,\n",
       "  0.050000000000000003,\n",
       "  0.11666666666666667,\n",
       "  0.083333333333333329,\n",
       "  0.084745762711864403,\n",
       "  0.10169491525423729,\n",
       "  0.11864406779661017,\n",
       "  0.13559322033898305,\n",
       "  0.13559322033898305,\n",
       "  0.067796610169491525],\n",
       " [0.083333333333333329,\n",
       "  0.050000000000000003,\n",
       "  0.11666666666666667,\n",
       "  0.083333333333333329,\n",
       "  0.084745762711864403,\n",
       "  0.10169491525423729,\n",
       "  0.11864406779661017,\n",
       "  0.13559322033898305,\n",
       "  0.13559322033898305,\n",
       "  0.067796610169491525],\n",
       " [0.083333333333333329,\n",
       "  0.050000000000000003,\n",
       "  0.11666666666666667,\n",
       "  0.083333333333333329,\n",
       "  0.084745762711864403,\n",
       "  0.10169491525423729,\n",
       "  0.11864406779661017,\n",
       "  0.13559322033898305,\n",
       "  0.13559322033898305,\n",
       "  0.067796610169491525],\n",
       " [0.083333333333333329,\n",
       "  0.050000000000000003,\n",
       "  0.13333333333333333,\n",
       "  0.13333333333333333,\n",
       "  0.10169491525423729,\n",
       "  0.050847457627118647,\n",
       "  0.067796610169491525,\n",
       "  0.10169491525423729,\n",
       "  0.067796610169491525,\n",
       "  0.10169491525423729],\n",
       " [0.083333333333333329,\n",
       "  0.050000000000000003,\n",
       "  0.13333333333333333,\n",
       "  0.13333333333333333,\n",
       "  0.10169491525423729,\n",
       "  0.050847457627118647,\n",
       "  0.067796610169491525,\n",
       "  0.10169491525423729,\n",
       "  0.067796610169491525,\n",
       "  0.10169491525423729],\n",
       " [0.083333333333333329,\n",
       "  0.050000000000000003,\n",
       "  0.13333333333333333,\n",
       "  0.13333333333333333,\n",
       "  0.10169491525423729,\n",
       "  0.050847457627118647,\n",
       "  0.067796610169491525,\n",
       "  0.10169491525423729,\n",
       "  0.067796610169491525,\n",
       "  0.10169491525423729]]"
      ]
     },
     "execution_count": 26,
     "metadata": {},
     "output_type": "execute_result"
    }
   ],
   "source": [
    "acuracia"
   ]
  }
 ],
 "metadata": {
  "anaconda-cloud": {},
  "kernelspec": {
   "display_name": "Python [conda env:py3k]",
   "language": "python",
   "name": "conda-env-py3k-py"
  },
  "language_info": {
   "codemirror_mode": {
    "name": "ipython",
    "version": 3
   },
   "file_extension": ".py",
   "mimetype": "text/x-python",
   "name": "python",
   "nbconvert_exporter": "python",
   "pygments_lexer": "ipython3",
   "version": "3.6.1"
  }
 },
 "nbformat": 4,
 "nbformat_minor": 1
}
